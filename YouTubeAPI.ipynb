{
 "cells": [
  {
   "cell_type": "code",
   "execution_count": 4,
   "id": "1117bf0f",
   "metadata": {},
   "outputs": [],
   "source": [
    "import warnings\n",
    "warnings.filterwarnings('ignore')\n",
    "\n",
    "import ipywidgets as widgets\n",
    "from IPython.display import display, clear_output"
   ]
  },
  {
   "cell_type": "code",
   "execution_count": 5,
   "id": "18ddae6a",
   "metadata": {},
   "outputs": [],
   "source": [
    "#from services import *\n",
    "#import channels\n",
    "#import comments\n",
    "#import playlists\n",
    "#from search import get_videos_by_keyword_metadata\n",
    "#import services\n",
    "#import transcripts\n",
    "#import utils\n",
    "#import videos"
   ]
  },
  {
   "cell_type": "code",
   "execution_count": 2,
   "id": "da5edbf4",
   "metadata": {},
   "outputs": [
    {
     "name": "stdout",
     "output_type": "stream",
     "text": [
      "Enabling notebook extension jupyter-js-widgets/extension...\n",
      "      - Validating: \u001b[32mOK\u001b[0m\n",
      "Enabling: voila\n",
      "- Writing config: /home/nickshiell/anaconda3/etc/jupyter\n",
      "    - Validating...\n",
      "Error loading server extension voila\n",
      "     \u001b[31m X\u001b[0m is voila importable?\n"
     ]
    }
   ],
   "source": [
    "!jupyter nbextension enable --py widgetsnbextension --sys-prefix\n",
    "!jupyter serverextension enable voila --sys-prefix"
   ]
  },
  {
   "cell_type": "code",
   "execution_count": 7,
   "id": "38ffa202",
   "metadata": {},
   "outputs": [
    {
     "data": {
      "application/vnd.jupyter.widget-view+json": {
       "model_id": "9f9da52616294d189f0d10926b9e606f",
       "version_major": 2,
       "version_minor": 0
      },
      "text/plain": [
       "RadioButtons(description='Select Action: ', layout=Layout(width='max-content'), options=(\"PLAYLIST: Videos' ME…"
      ]
     },
     "metadata": {},
     "output_type": "display_data"
    },
    {
     "data": {
      "application/vnd.jupyter.widget-view+json": {
       "model_id": "e7814e2eac1e47dcbddcaf7fff41df3e",
       "version_major": 2,
       "version_minor": 0
      },
      "text/plain": [
       "Text(value='', description='Query: ', placeholder='Enter query')"
      ]
     },
     "metadata": {},
     "output_type": "display_data"
    },
    {
     "data": {
      "application/vnd.jupyter.widget-view+json": {
       "model_id": "22f1ed3931e14123936e7c79dafa9452",
       "version_major": 2,
       "version_minor": 0
      },
      "text/plain": [
       "Button(description='Search', disabled=True, style=ButtonStyle())"
      ]
     },
     "metadata": {},
     "output_type": "display_data"
    },
    {
     "data": {
      "application/vnd.jupyter.widget-view+json": {
       "model_id": "624d0e33455a49b68a8c5c5a5594649f",
       "version_major": 2,
       "version_minor": 0
      },
      "text/plain": [
       "Textarea(value='', description='Results:', layout=Layout(width='auto'), placeholder='Query results will appear…"
      ]
     },
     "metadata": {},
     "output_type": "display_data"
    },
    {
     "data": {
      "application/vnd.jupyter.widget-view+json": {
       "model_id": "55afc3f48e7b427f823939ba23a3a338",
       "version_major": 2,
       "version_minor": 0
      },
      "text/plain": [
       "Output()"
      ]
     },
     "metadata": {},
     "output_type": "display_data"
    }
   ],
   "source": [
    "listOfOptions = ['PLAYLIST: Videos\\' METADATA and TRANSCRIPT',\n",
    "                 'PLAYLIST: Video\\'s COMMENTS',\n",
    "                 'CHANNEL:  Metadata',\n",
    "                 'CHANNEL:  Videos',\n",
    "                 'KEYWORDS: Videos\\' METADATA',\n",
    "                 'VIDEO: Metadata and transcript',\n",
    "                 'VIDEO: Comments',\n",
    "                 'Get video\\'s METADATA, CHANNELS (creators) for all videos in a PLAYLIST',\n",
    "                 'Get video\\'s COMMENTS and CHANNELS (commenters) for all videos in a PLAYLIST',\n",
    "                 'Exit']\n",
    "\n",
    "mainMenuRadioButtonWidget = widgets.RadioButtons(\n",
    "                        options=listOfOptions,    \n",
    "                        layout={'width': 'max-content'}, # If the items' names are long\n",
    "                        description='Select Action: ',\n",
    "                        disabled=False\n",
    ")\n",
    "\n",
    "queryTextBoxWidget = widgets.Text(\n",
    "                        value='',\n",
    "                        placeholder='Enter query',\n",
    "                        description='Query: ',\n",
    "                        disabled=False\n",
    "                    )\n",
    "\n",
    "performSearchButtonWidget = widgets.Button(\n",
    "                        description='Search',\n",
    "                        disabled=True,\n",
    "                        button_style='', # 'success', 'info', 'warning', 'danger' or ''\n",
    "                        #tooltip='Click me',\n",
    "                        #icon='check' # (FontAwesome names without the `fa-` prefix)\n",
    "                    )\n",
    "\n",
    "resultsTextAreaWidget = widgets.Textarea(\n",
    "                        value='',\n",
    "                        placeholder='Query results will appear here...',\n",
    "                        description='Results:',\n",
    "                        disabled=False,\n",
    "                        layout={'width':'auto'}\n",
    "                    )\n",
    "\n",
    "\n",
    "output2 = widgets.Output()\n",
    "\n",
    "display(mainMenuRadioButtonWidget,\n",
    "        queryTextBoxWidget,\n",
    "        performSearchButtonWidget,\n",
    "        resultsTextAreaWidget,\n",
    "        output2)\n",
    "\n",
    "def mainMenuSelectionHandler(change):\n",
    "    \n",
    "    performSearchButtonWidget.disabled = True\n",
    "    queryTextBoxWidget.value = ''\n",
    "        \n",
    "    queryString = ''\n",
    "    newOption = change['new']\n",
    "    if newOption == listOfOptions[0] or newOption == listOfOptions[1]:\n",
    "        queryString = 'Enter PLAYLIST url'\n",
    "    elif newOption == listOfOptions[2] or newOption == listOfOptions[3]:\n",
    "        queryString = 'Enter CHANNEL url'\n",
    "    elif newOption == listOfOptions[4] :\n",
    "        queryString = 'Enter KEYWORD'\n",
    "    elif newOption == listOfOptions[5] or newOption == listOfOptions[6]:\n",
    "        queryString = 'Enter VIDEO url'\n",
    "    elif newOption == listOfOptions[7] or newOption == listOfOptions[8]:\n",
    "        queryString = 'Enter PLAYLIST url'\n",
    "    else:\n",
    "        queryString = 'Enter query'\n",
    "    \n",
    "    queryTextBoxWidget.placeholder = queryString\n",
    "\n",
    "        \n",
    "def queryTextBoxHandler(change):\n",
    "    \n",
    "    # todo: This really needs to be handled in a more eligent way.\n",
    "    if 'url' in queryTextBoxWidget.placeholder:\n",
    "        if 'https://' in queryTextBoxWidget.value or 'http://' in queryTextBoxWidget.value:\n",
    "            performSearchButtonWidget.disabled = False\n",
    "            resultsTextAreaWidget.placeholder = 'valid URL: ' + queryTextBoxWidget.value\n",
    "        else:\n",
    "            resultsTextAreaWidget.placeholder = 'Invalid URL'\n",
    "            performSearchButtonWidget.disabled = True\n",
    "    elif 'KEYWORD' in queryTextBoxWidget.placeholder:\n",
    "        resultsTextAreaWidget.placeholder = 'Keyword(s): ' + queryTextBoxWidget.value\n",
    "        performSearchButtonWidget.disabled = False\n",
    "        \n",
    "def performSearchButtonHandler(clicked):\n",
    "    with output2:\n",
    "        print('the button is functional: ', clicked)\n",
    "\n",
    "mainMenuRadioButtonWidget.observe(mainMenuSelectionHandler,names='value')\n",
    "queryTextBoxWidget.observe(queryTextBoxHandler,names='value')\n",
    "performSearchButtonWidget.on_click(performSearchButtonHandler)"
   ]
  },
  {
   "cell_type": "code",
   "execution_count": null,
   "id": "0181b232",
   "metadata": {},
   "outputs": [],
   "source": []
  }
 ],
 "metadata": {
  "kernelspec": {
   "display_name": "Python 3 (ipykernel)",
   "language": "python",
   "name": "python3"
  },
  "language_info": {
   "codemirror_mode": {
    "name": "ipython",
    "version": 3
   },
   "file_extension": ".py",
   "mimetype": "text/x-python",
   "name": "python",
   "nbconvert_exporter": "python",
   "pygments_lexer": "ipython3",
   "version": "3.10.6"
  }
 },
 "nbformat": 4,
 "nbformat_minor": 5
}
